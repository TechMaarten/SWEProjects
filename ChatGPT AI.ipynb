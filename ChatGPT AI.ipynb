{
 "cells": [
  {
   "cell_type": "code",
   "execution_count": 1,
   "id": "7b2b6b98-54cc-4a78-8d91-36f1990aba49",
   "metadata": {
    "tags": []
   },
   "outputs": [
    {
     "name": "stdout",
     "output_type": "stream",
     "text": [
      "Requirement already satisfied: paper-qa in /global/common/software/m4388/env/envs/hpc-bootcamp/lib/python3.11/site-packages (3.5.0)\n",
      "Requirement already satisfied: pypdf in /global/common/software/m4388/env/envs/hpc-bootcamp/lib/python3.11/site-packages (from paper-qa) (3.15.0)\n",
      "Requirement already satisfied: langchain>=0.0.198 in /global/common/software/m4388/env/envs/hpc-bootcamp/lib/python3.11/site-packages (from paper-qa) (0.0.255)\n",
      "Requirement already satisfied: openai>=0.27.8 in /global/common/software/m4388/env/envs/hpc-bootcamp/lib/python3.11/site-packages (from paper-qa) (0.27.8)\n",
      "Requirement already satisfied: faiss-cpu in /global/common/software/m4388/env/envs/hpc-bootcamp/lib/python3.11/site-packages (from paper-qa) (1.7.4)\n",
      "Requirement already satisfied: PyCryptodome in /global/common/software/m4388/env/envs/hpc-bootcamp/lib/python3.11/site-packages (from paper-qa) (3.18.0)\n",
      "Requirement already satisfied: html2text in /global/common/software/m4388/env/envs/hpc-bootcamp/lib/python3.11/site-packages (from paper-qa) (2020.1.16)\n",
      "Requirement already satisfied: tiktoken>=0.4.0 in /global/common/software/m4388/env/envs/hpc-bootcamp/lib/python3.11/site-packages (from paper-qa) (0.4.0)\n",
      "Requirement already satisfied: PyYAML>=5.3 in /global/common/software/m4388/env/envs/hpc-bootcamp/lib/python3.11/site-packages (from langchain>=0.0.198->paper-qa) (6.0)\n",
      "Requirement already satisfied: SQLAlchemy<3,>=1.4 in /global/common/software/m4388/env/envs/hpc-bootcamp/lib/python3.11/site-packages (from langchain>=0.0.198->paper-qa) (2.0.19)\n",
      "Requirement already satisfied: aiohttp<4.0.0,>=3.8.3 in /global/common/software/m4388/env/envs/hpc-bootcamp/lib/python3.11/site-packages (from langchain>=0.0.198->paper-qa) (3.8.5)\n",
      "Requirement already satisfied: dataclasses-json<0.6.0,>=0.5.7 in /global/common/software/m4388/env/envs/hpc-bootcamp/lib/python3.11/site-packages (from langchain>=0.0.198->paper-qa) (0.5.14)\n",
      "Requirement already satisfied: langsmith<0.1.0,>=0.0.11 in /global/common/software/m4388/env/envs/hpc-bootcamp/lib/python3.11/site-packages (from langchain>=0.0.198->paper-qa) (0.0.19)\n",
      "Requirement already satisfied: numexpr<3.0.0,>=2.8.4 in /global/common/software/m4388/env/envs/hpc-bootcamp/lib/python3.11/site-packages (from langchain>=0.0.198->paper-qa) (2.8.5)\n",
      "Requirement already satisfied: numpy<2,>=1 in /global/common/software/m4388/env/envs/hpc-bootcamp/lib/python3.11/site-packages (from langchain>=0.0.198->paper-qa) (1.25.2)\n",
      "Requirement already satisfied: openapi-schema-pydantic<2.0,>=1.2 in /global/common/software/m4388/env/envs/hpc-bootcamp/lib/python3.11/site-packages (from langchain>=0.0.198->paper-qa) (1.2.4)\n",
      "Requirement already satisfied: pydantic<2,>=1 in /global/common/software/m4388/env/envs/hpc-bootcamp/lib/python3.11/site-packages (from langchain>=0.0.198->paper-qa) (1.10.12)\n",
      "Requirement already satisfied: requests<3,>=2 in /global/common/software/m4388/env/envs/hpc-bootcamp/lib/python3.11/site-packages (from langchain>=0.0.198->paper-qa) (2.31.0)\n",
      "Requirement already satisfied: tenacity<9.0.0,>=8.1.0 in /global/common/software/m4388/env/envs/hpc-bootcamp/lib/python3.11/site-packages (from langchain>=0.0.198->paper-qa) (8.2.2)\n",
      "Requirement already satisfied: tqdm in /global/common/software/m4388/env/envs/hpc-bootcamp/lib/python3.11/site-packages (from openai>=0.27.8->paper-qa) (4.65.0)\n",
      "Requirement already satisfied: regex>=2022.1.18 in /global/common/software/m4388/env/envs/hpc-bootcamp/lib/python3.11/site-packages (from tiktoken>=0.4.0->paper-qa) (2023.6.3)\n",
      "Requirement already satisfied: attrs>=17.3.0 in /global/common/software/m4388/env/envs/hpc-bootcamp/lib/python3.11/site-packages (from aiohttp<4.0.0,>=3.8.3->langchain>=0.0.198->paper-qa) (23.1.0)\n",
      "Requirement already satisfied: charset-normalizer<4.0,>=2.0 in /global/common/software/m4388/env/envs/hpc-bootcamp/lib/python3.11/site-packages (from aiohttp<4.0.0,>=3.8.3->langchain>=0.0.198->paper-qa) (3.2.0)\n",
      "Requirement already satisfied: multidict<7.0,>=4.5 in /global/common/software/m4388/env/envs/hpc-bootcamp/lib/python3.11/site-packages (from aiohttp<4.0.0,>=3.8.3->langchain>=0.0.198->paper-qa) (6.0.4)\n",
      "Requirement already satisfied: async-timeout<5.0,>=4.0.0a3 in /global/common/software/m4388/env/envs/hpc-bootcamp/lib/python3.11/site-packages (from aiohttp<4.0.0,>=3.8.3->langchain>=0.0.198->paper-qa) (4.0.2)\n",
      "Requirement already satisfied: yarl<2.0,>=1.0 in /global/common/software/m4388/env/envs/hpc-bootcamp/lib/python3.11/site-packages (from aiohttp<4.0.0,>=3.8.3->langchain>=0.0.198->paper-qa) (1.9.2)\n",
      "Requirement already satisfied: frozenlist>=1.1.1 in /global/common/software/m4388/env/envs/hpc-bootcamp/lib/python3.11/site-packages (from aiohttp<4.0.0,>=3.8.3->langchain>=0.0.198->paper-qa) (1.4.0)\n",
      "Requirement already satisfied: aiosignal>=1.1.2 in /global/common/software/m4388/env/envs/hpc-bootcamp/lib/python3.11/site-packages (from aiohttp<4.0.0,>=3.8.3->langchain>=0.0.198->paper-qa) (1.3.1)\n",
      "Requirement already satisfied: marshmallow<4.0.0,>=3.18.0 in /global/common/software/m4388/env/envs/hpc-bootcamp/lib/python3.11/site-packages (from dataclasses-json<0.6.0,>=0.5.7->langchain>=0.0.198->paper-qa) (3.20.1)\n",
      "Requirement already satisfied: typing-inspect<1,>=0.4.0 in /global/common/software/m4388/env/envs/hpc-bootcamp/lib/python3.11/site-packages (from dataclasses-json<0.6.0,>=0.5.7->langchain>=0.0.198->paper-qa) (0.9.0)\n",
      "Requirement already satisfied: typing-extensions>=4.2.0 in /global/common/software/m4388/env/envs/hpc-bootcamp/lib/python3.11/site-packages (from pydantic<2,>=1->langchain>=0.0.198->paper-qa) (4.7.1)\n",
      "Requirement already satisfied: idna<4,>=2.5 in /global/common/software/m4388/env/envs/hpc-bootcamp/lib/python3.11/site-packages (from requests<3,>=2->langchain>=0.0.198->paper-qa) (3.4)\n",
      "Requirement already satisfied: urllib3<3,>=1.21.1 in /global/common/software/m4388/env/envs/hpc-bootcamp/lib/python3.11/site-packages (from requests<3,>=2->langchain>=0.0.198->paper-qa) (2.0.4)\n",
      "Requirement already satisfied: certifi>=2017.4.17 in /global/common/software/m4388/env/envs/hpc-bootcamp/lib/python3.11/site-packages (from requests<3,>=2->langchain>=0.0.198->paper-qa) (2023.7.22)\n",
      "Requirement already satisfied: greenlet!=0.4.17 in /global/common/software/m4388/env/envs/hpc-bootcamp/lib/python3.11/site-packages (from SQLAlchemy<3,>=1.4->langchain>=0.0.198->paper-qa) (2.0.2)\n",
      "Requirement already satisfied: packaging>=17.0 in /global/common/software/m4388/env/envs/hpc-bootcamp/lib/python3.11/site-packages (from marshmallow<4.0.0,>=3.18.0->dataclasses-json<0.6.0,>=0.5.7->langchain>=0.0.198->paper-qa) (23.1)\n",
      "Requirement already satisfied: mypy-extensions>=0.3.0 in /global/common/software/m4388/env/envs/hpc-bootcamp/lib/python3.11/site-packages (from typing-inspect<1,>=0.4.0->dataclasses-json<0.6.0,>=0.5.7->langchain>=0.0.198->paper-qa) (1.0.0)\n",
      "Note: you may need to restart the kernel to use updated packages.\n",
      "Requirement already satisfied: PyPDF2 in /global/common/software/m4388/env/envs/hpc-bootcamp/lib/python3.11/site-packages (3.0.1)\n",
      "Note: you may need to restart the kernel to use updated packages.\n"
     ]
    }
   ],
   "source": [
    "%pip install paper-qa        \n",
    "%pip install PyPDF2"
   ]
  },
  {
   "cell_type": "code",
   "execution_count": null,
   "id": "4125e4ec-9875-44a6-97c3-45f0682433c6",
   "metadata": {
    "tags": []
   },
   "outputs": [],
   "source": [
    "import os\n",
    "api_key = os.environ.get(\"OPENAI_API_KEY\")\n",
    "if not api_key:\n",
    "    api_key = input(\"OPENAI_API_KEY is not defined, please enter it: \")\n",
    "    os.environ[\"OPENAI_API_KEY\"] = api_key"
   ]
  },
  {
   "cell_type": "code",
   "execution_count": null,
   "id": "6b7c8fba-01dc-4bdf-a8a8-635c9ee756ea",
   "metadata": {
    "tags": []
   },
   "outputs": [],
   "source": [
    "import paperqa\n",
    "print('PaperQA version:', paperqa.__version__)\n",
    "\n",
    "# Required for Jupyter Notebook\n",
    "import nest_asyncio\n",
    "nest_asyncio.apply()    "
   ]
  },
  {
   "cell_type": "code",
   "execution_count": null,
   "id": "399f8a53-f541-4874-9c26-9a2835738c81",
   "metadata": {},
   "outputs": [],
   "source": [
    "from PyPDF2 import PdfWriter\n",
    "\n",
    "merger = PdfWriter()\n",
    "\n",
    "for pdf in [\"/global/homes/j/jordanw1/Tutorials/Bootcamp PDF Files/A Brief History of the Department of Energy _ Department of Energy.pdf\",\"/global/homes/j/jordanw1/Tutorials/Bootcamp PDF Files/Clean Energy Justice_ Charting an Emerging Agenda.pdf\",\"/global/homes/j/jordanw1/Tutorials/Bootcamp PDF Files/Energy Justice and the Energy Transition.pdf\",\"/global/homes/j/jordanw1/Tutorials/Bootcamp PDF Files/Energy Justice_ Key Concepts and  Metrics Relevant to EERE  Transportation Projects .pdf\",\"/global/homes/j/jordanw1/Tutorials/Bootcamp PDF Files/Environmental Justice (2009, Mohai, Pellow, Roberts).pdf\",\"/global/homes/j/jordanw1/Tutorials/Bootcamp PDF Files/Evolution of the environmental justice movement_ activism, formalization and differentiation.pdf\",\"/global/homes/j/jordanw1/Tutorials/Bootcamp PDF Files/Expanding the Conceptual and Analytical Basis of Energy Justice_ Beyond the Three-Tenet Framework.pdf\",\"/global/homes/j/jordanw1/Tutorials/Bootcamp PDF Files/Federal Actions To Address Environmental Justice in Minority Populations and Low-Income Populations (1).pdf\",\"/global/homes/j/jordanw1/Tutorials/Bootcamp PDF Files/Federal Actions To Address Environmental Justice in Minority Populations and Low-Income Populations.pdf\",\"/global/homes/j/jordanw1/Tutorials/Bootcamp PDF Files/H.R. 3684 Bipartisan Infrastructure Bill.pdf\",\"/global/homes/j/jordanw1/Tutorials/Bootcamp PDF Files/Justice40 Initiative _ Environmental Justice _ The White House.pdf\",\"/global/homes/j/jordanw1/Tutorials/Bootcamp PDF Files/Mobilizing Microgrids for Energy Justice - Journal Article - Stanford Law School.pdf\",\"/global/homes/j/jordanw1/Tutorials/Bootcamp PDF Files/Office of Science National Laboratories _ Department of Energy.pdf\",\"/global/homes/j/jordanw1/Tutorials/Bootcamp PDF Files/Pipeline Spills and Indigenous Energy Justice.pdf\",\"/global/homes/j/jordanw1/Tutorials/Bootcamp PDF Files/Pipeline Spills and Indigenous Energy Justice.pdf\",\"/global/homes/j/jordanw1/Tutorials/Bootcamp PDF Files/Pipeline Spills and Indigenous Energy Justice.pdf\",\"/global/homes/j/jordanw1/Tutorials/Bootcamp PDF Files/Pipeline Spills and Indigenous Energy Justice.pdf\",\"/global/homes/j/jordanw1/Tutorials/Bootcamp PDF Files/Pipeline Spills and Indigenous Energy Justice.pdf\",\"/global/homes/j/jordanw1/Tutorials/Bootcamp PDF Files/The-Energy-Justice-Workbook-2019-web.pdf\",\"/global/homes/j/jordanw1/Tutorials/Bootcamp PDF Files/Investigating Energy Justice in Demand-Side Low-Carbon Innovations in Ontario.pdf\"]:\n",
    "    merger.append(pdf)\n",
    "\n",
    "merger.write(\"merged-pdf.pdf\")\n",
    "merger.close()"
   ]
  },
  {
   "cell_type": "code",
   "execution_count": null,
   "id": "6cb86d98-75e9-4312-a4ba-332f11208534",
   "metadata": {
    "tags": []
   },
   "outputs": [],
   "source": [
    "from paperqa import Docs\n",
    "\n",
    "# Pricing info for OpenAI models: https://openai.com/pricing#language-models\n",
    "docs = Docs(llm='gpt-4') # Better model, but more expensive\n",
    "docs = Docs(llm='gpt-3.5-turbo') # Faster and cheaper\n",
    "answer = docs.query(\"Energy Justice?\")\n",
    "#print(answer.formatted_answer)"
   ]
  },
  {
   "cell_type": "code",
   "execution_count": null,
   "id": "eb99294a-4ce2-42c1-b582-cfb9c001c05e",
   "metadata": {
    "tags": []
   },
   "outputs": [],
   "source": [
    "import time\n",
    "start = time.time()\n",
    "docs.add('merged-pdf.pdf')\n",
    "end = time.time()\n",
    "print(f'Adding the document took {(end-start):.2f} seconds')"
   ]
  },
  {
   "cell_type": "code",
   "execution_count": null,
   "id": "0e9997c7-b289-4696-9ce1-f2010d4ed35b",
   "metadata": {
    "tags": []
   },
   "outputs": [],
   "source": [
    "start = time.time()\n",
    "answer = docs.query(\"What do people who suffer from lack of energy resources have in common?\")\n",
    "end = time.time()\n",
    "print(answer.formatted_answer)\n",
    "print(f'Fine-tuning and query took {(end-start):.2f} seconds')"
   ]
  },
  {
   "cell_type": "code",
   "execution_count": null,
   "id": "89c52763-89ba-4b38-ae34-a53cb59eff74",
   "metadata": {},
   "outputs": [],
   "source": []
  }
 ],
 "metadata": {
  "kernelspec": {
   "display_name": "hpc-bootcamp",
   "language": "python",
   "name": "hpc-bootcamp"
  },
  "language_info": {
   "codemirror_mode": {
    "name": "ipython",
    "version": 3
   },
   "file_extension": ".py",
   "mimetype": "text/x-python",
   "name": "python",
   "nbconvert_exporter": "python",
   "pygments_lexer": "ipython3",
   "version": "3.11.4"
  }
 },
 "nbformat": 4,
 "nbformat_minor": 5
}
